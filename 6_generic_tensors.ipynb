{
  "nbformat": 4,
  "nbformat_minor": 0,
  "metadata": {
    "colab": {
      "provenance": [],
      "authorship_tag": "ABX9TyOvJr7uCL4LG1JQQfxb4yoj",
      "include_colab_link": true
    },
    "kernelspec": {
      "name": "python3",
      "display_name": "Python 3"
    },
    "language_info": {
      "name": "python"
    }
  },
  "cells": [
    {
      "cell_type": "markdown",
      "metadata": {
        "id": "view-in-github",
        "colab_type": "text"
      },
      "source": [
        "<a href=\"https://colab.research.google.com/github/AhsenRiaz/Linear-Algebra-For-ML/blob/main/6_generic_tensors.ipynb\" target=\"_parent\"><img src=\"https://colab.research.google.com/assets/colab-badge.svg\" alt=\"Open In Colab\"/></a>"
      ]
    },
    {
      "cell_type": "markdown",
      "source": [
        "# Higher Rank Tensors (Rank-4)\n",
        "Rank-4 tensors are most commonly used for images"
      ],
      "metadata": {
        "id": "vjc9vFgJ_CT5"
      }
    },
    {
      "cell_type": "code",
      "execution_count": 1,
      "metadata": {
        "id": "74jKPg0Y-Zh5"
      },
      "outputs": [],
      "source": [
        "import torch"
      ]
    },
    {
      "cell_type": "code",
      "source": [
        "images_pt = torch.zeros([32, 28, 28, 3])\n",
        "# images_pt"
      ],
      "metadata": {
        "id": "2aX6FFY0_bPb"
      },
      "execution_count": 6,
      "outputs": []
    },
    {
      "cell_type": "code",
      "source": [
        "import tensorflow as tf"
      ],
      "metadata": {
        "id": "CTlvIAbX_wcz"
      },
      "execution_count": 3,
      "outputs": []
    },
    {
      "cell_type": "code",
      "source": [
        "images_tf = tf.zeros([32, 28, 28, 3])\n",
        "# images_tf"
      ],
      "metadata": {
        "id": "8z7ughmY__4O"
      },
      "execution_count": 7,
      "outputs": []
    },
    {
      "cell_type": "code",
      "source": [],
      "metadata": {
        "id": "9krpqutYASh4"
      },
      "execution_count": null,
      "outputs": []
    }
  ]
}